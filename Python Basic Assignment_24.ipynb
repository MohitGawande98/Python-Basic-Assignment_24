{
 "cells": [
  {
   "cell_type": "markdown",
   "id": "5c20f41d",
   "metadata": {},
   "source": [
    "# Python Baisc Assignment_24."
   ]
  },
  {
   "cell_type": "raw",
   "id": "6cea5d37",
   "metadata": {},
   "source": [
    "1. What is the relationship between def statements and lambda expressions ?"
   ]
  },
  {
   "cell_type": "raw",
   "id": "740bac0f",
   "metadata": {},
   "source": [
    "Answer:- As an expression, lambda returns a value that can optionally be assigned a name. in contrast, the def statement always assigns the new function to the name in the header, instead of returning is as a result. lambda's body is a single expression, not a block of statements. "
   ]
  },
  {
   "cell_type": "raw",
   "id": "6f19d031",
   "metadata": {},
   "source": [
    "2. What is the benefit of lambda?"
   ]
  },
  {
   "cell_type": "raw",
   "id": "bf1ad574",
   "metadata": {},
   "source": [
    "Answer:- The lambda keyword in python provides a shortcut for declaring small anonymous functions. Lambda functions behave just like regular functions declared with the def keyword. The can be used whenever function objects required. One of the benefits of using lambda expression is the reduced amount of code. "
   ]
  },
  {
   "cell_type": "raw",
   "id": "94a53bcf",
   "metadata": {},
   "source": [
    "3. Compare and contrast map, filter, and reduce."
   ]
  },
  {
   "cell_type": "raw",
   "id": "57dd8754",
   "metadata": {},
   "source": [
    "Answer:- \n",
    "       filter:- The filter() function is usedful to filter out the elements of a sequence depending on the result of a function. we should supply a function and a sequence to the filter() function as: filter(function, sequence) \n",
    "       \n",
    "       map:- The map() function is similar to filter() function but it acts on each element of the sequence and perhaps changes the elements. the format of map() function is:  map(function, sequence)\n",
    "       \n",
    "       reduce: The reduce() function reduces a sequence of elements to a single value by processing the elements according to a function supplied. the reduce function is uses in the format: reduce(function, sequence)."
   ]
  },
  {
   "cell_type": "raw",
   "id": "86f1e082",
   "metadata": {},
   "source": [
    "4. What are function annotations, and how are they used?"
   ]
  },
  {
   "cell_type": "raw",
   "id": "499b0a94",
   "metadata": {},
   "source": [
    "Answer:- Function annotations are arbitrary python expressions that are associated with various part of functions. These expressions are evaluted at compile time and have no life in python's runtime environment. python does not attach any meaning to these annotations."
   ]
  },
  {
   "cell_type": "raw",
   "id": "c3b0d344",
   "metadata": {},
   "source": [
    "5. What are recursive functions, and how are they used?"
   ]
  },
  {
   "cell_type": "raw",
   "id": "5d94bcf1",
   "metadata": {},
   "source": [
    "Answer:- A recursive function is a function that calls itself during its execution. The process may repeat several times, outputting the rsult and the end of each iteration. Recursive function allow programmers to write efficient programs using a minimal amount of code."
   ]
  },
  {
   "cell_type": "raw",
   "id": "3b8d40b5",
   "metadata": {},
   "source": [
    "6. What are some general design guidelines for coding functions?"
   ]
  },
  {
   "cell_type": "raw",
   "id": "d3044b0c",
   "metadata": {},
   "source": [
    "Answer:- \n",
    "     >> Limited use of globals.\n",
    "     >> Standard headers for different modules.\n",
    "     >> Naming conventions for local variables, global variables, constatnts and functions.\n",
    "     >> Indentation\n",
    "     >> Error return values and exception handling conventions."
   ]
  },
  {
   "cell_type": "raw",
   "id": "40c503b4",
   "metadata": {},
   "source": []
  },
  {
   "cell_type": "code",
   "execution_count": null,
   "id": "6af0a679",
   "metadata": {},
   "outputs": [],
   "source": []
  }
 ],
 "metadata": {
  "kernelspec": {
   "display_name": "Python 3",
   "language": "python",
   "name": "python3"
  },
  "language_info": {
   "codemirror_mode": {
    "name": "ipython",
    "version": 3
   },
   "file_extension": ".py",
   "mimetype": "text/x-python",
   "name": "python",
   "nbconvert_exporter": "python",
   "pygments_lexer": "ipython3",
   "version": "3.8.8"
  }
 },
 "nbformat": 4,
 "nbformat_minor": 5
}
